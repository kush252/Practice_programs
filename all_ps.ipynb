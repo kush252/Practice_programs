{
 "cells": [
  {
   "cell_type": "markdown",
   "id": "24c35aba",
   "metadata": {},
   "source": [
    "Guessing game"
   ]
  },
  {
   "cell_type": "code",
   "execution_count": 6,
   "id": "f6d8eb88",
   "metadata": {},
   "outputs": [
    {
     "name": "stdout",
     "output_type": "stream",
     "text": [
      "Guess the Number\n",
      "Welcome to the game!\n",
      "To start the game, please select a range\n",
      "Now the range is set from 1 to 50.\n",
      "Lets start the game!\n",
      "Your guess is too low. Please try again.\n",
      "Your guess is too low. Please try again.\n",
      "Your guess is too low. Please try again.\n",
      "Your guess is too low. Please try again.\n",
      "Your guess is too high. Please try again.\n",
      "Your guess is too low. Please try again.\n",
      "Your guess is too low. Please try again.\n",
      "Congratulations! You guessed the number!\n",
      "You guessed the number in 8 guesses.\n"
     ]
    }
   ],
   "source": [
    "import random\n",
    "\n",
    "game_title = \"Guess the Number\"\n",
    "no_of_guesses = 0\n",
    "\n",
    "print(game_title)\n",
    "print(\"Welcome to the game!\")\n",
    "print(\"To start the game, please select a range\")\n",
    "\n",
    "begin = int(input(\"Enter the beginning of the range: \"))\n",
    "end = int(input(\"Enter the end of the range: \"))\n",
    "print(f\"Now the range is set from {begin} to {end}.\")\n",
    "the_number = random.randint(begin, end)\n",
    "print(\"Lets start the game!\")\n",
    "\n",
    "\n",
    "while True:\n",
    "  guess = input(\"Enter your guess: \")\n",
    "  try:\n",
    "    guess1 = int(guess)\n",
    "  except ValueError:\n",
    "    print(\"Please enter a valid integer.\")\n",
    "    continue\n",
    "  no_of_guesses += 1\n",
    "  if guess1 < the_number:\n",
    "    print(\"Your guess is too low. Please try again.\")\n",
    "  elif guess1 > the_number:\n",
    "    print(\"Your guess is too high. Please try again.\")\n",
    "  else:\n",
    "    print(\"Congratulations! You guessed the number!\")\n",
    "    print(f\"You guessed the number in {no_of_guesses} guesses.\")\n",
    "    break"
   ]
  },
  {
   "cell_type": "markdown",
   "id": "01aec03a",
   "metadata": {},
   "source": [
    "E-commerce bill using args kwargs"
   ]
  },
  {
   "cell_type": "code",
   "execution_count": 7,
   "id": "41b36c20",
   "metadata": {},
   "outputs": [
    {
     "name": "stdout",
     "output_type": "stream",
     "text": [
      "=========================================================\n",
      "Your Orders\n",
      "=========================================================\n",
      "Food item                 Quantity        Price per plate   \n",
      "Vadapav                      2                    200.0\n",
      "Pavbhaji                     2                    500.0\n",
      "misal                        1                    100.0\n",
      "=========================================================\n",
      "Bill Summary\n",
      "=========================================================\n",
      "Item total:                                       1500.0\n",
      "Delivery fee:                                      500.0\n",
      "Gst and restaurent charges:                       1000.0\n",
      "Platform fee:                                      200.0\n",
      "--------------------------------------------------------\n",
      "Payment mode:                                       card\n",
      "Card payment discount:                               200\n",
      "--------------------------------------------------------\n",
      "Total Bill:                                       3000.0\n"
     ]
    }
   ],
   "source": [
    "def ecommerce(*args,**kwargs):\n",
    "    total=0.00\n",
    "    delivery_fee = 500.00\n",
    "    \n",
    "    platform_fee=200.00\n",
    "    print(\"=========================================================\")\n",
    "    print(\"Your Orders\")\n",
    "    print(\"=========================================================\")\n",
    "    print(f\"{'Food item':<20}{'Quantity':^20}{'Price per plate':^20}\")\n",
    "    for arg in args:\n",
    "        print(f\"{arg[0]:<20}{arg[1]:^20}{arg[2]:>15}\")\n",
    "        total+=(arg[1]*arg[2])\n",
    "    print(\"=========================================================\")\n",
    "    print(\"Bill Summary\")\n",
    "    print(\"=========================================================\")\n",
    "    print(f\"{'Item total:':<30} {total:>25}\")\n",
    "   \n",
    "    if total>2000:\n",
    "        delivery_fee=0.00\n",
    "        print(\"(Congratulations you unlocked free delivery!)\")\n",
    "    print(f\"{'Delivery fee:':<30} {delivery_fee:>25}\")\n",
    "    total+=delivery_fee\n",
    "\n",
    "    print(f\"{'Gst and restaurent charges:':<30} {(total*50)/100:>25}\")\n",
    "    total=(total+(total*50)/100)\n",
    "\n",
    "    print(f\"{'Platform fee:':<30} {platform_fee:>25}\")\n",
    "    total+=platform_fee\n",
    "\n",
    "    if \"payment_mode\" in kwargs:\n",
    "        print(\"--------------------------------------------------------\")\n",
    "        print(f\"{'Payment mode:':<30} {kwargs.get('payment_mode'):>25}\")\n",
    "        if kwargs.get(\"payment_mode\")==\"card\":\n",
    "            total-=200\n",
    "            print(f\"{'Card payment discount:':<30} {200:>25}\")\n",
    "        elif kwargs.get(\"payment_mode\")==\"upi\":\n",
    "            total-=100\n",
    "            print(f\"{'UPI payment discount:':<30} {100:>25}\")\n",
    "    print(\"--------------------------------------------------------\")\n",
    "    print(f\"{'Total Bill:':<30} {total:>25}\")\n",
    "\n",
    "ecommerce((\"Vadapav\",2,200.00),(\"Pavbhaji\",2,500.00),(\"misal\",1,100.00),payment_mode=\"card\")"
   ]
  },
  {
   "cell_type": "markdown",
   "id": "220e8795",
   "metadata": {},
   "source": [
    "Bank Accounts"
   ]
  },
  {
   "cell_type": "code",
   "execution_count": 8,
   "id": "1a19e8ab",
   "metadata": {},
   "outputs": [
    {
     "name": "stdout",
     "output_type": "stream",
     "text": [
      "Deposited 500. New balance is 1500.\n",
      "Withdrew 200. New balance is 1300.\n",
      "New balance is 2100.0.\n"
     ]
    }
   ],
   "source": [
    "class BankAccount:\n",
    "    def __init__(self,accountnumber,accountname,balance=0):\n",
    "        self.accountnumber=accountnumber\n",
    "        self.accountname=accountname\n",
    "        self.balance=balance\n",
    "\n",
    "    def deposit(self,amount):\n",
    "        self.balance += amount\n",
    "        print(f\"Deposited {amount}. New balance is {self.balance}.\")\n",
    "    def withdraw(self,amount):\n",
    "        if amount > self.balance:\n",
    "            print(\"Insufficient balance\")\n",
    "        else:\n",
    "            self.balance -= amount\n",
    "            print(f\"Withdrew {amount}. New balance is {self.balance}.\")\n",
    "\n",
    "class SavingsAccount(BankAccount):\n",
    "    def apply_interest(self, rate):\n",
    "        self.balance += self.balance * rate/100\n",
    "        print(f\"New balance is {self.balance}.\")\n",
    "\n",
    "\n",
    "\n",
    "account = BankAccount(\"123456\", \"Kush Bhogate\", 1000)\n",
    "account.deposit(500)\n",
    "account.withdraw(200)\n",
    "\n",
    "savings = SavingsAccount(\"654321\", \"Ved Bhogate\", 2000)\n",
    "savings.apply_interest(5)\n",
    "\n"
   ]
  },
  {
   "cell_type": "markdown",
   "id": "2403842b",
   "metadata": {},
   "source": [
    "filter and reduce the list of temperatures"
   ]
  },
  {
   "cell_type": "code",
   "execution_count": 9,
   "id": "cfc3c122",
   "metadata": {},
   "outputs": [
    {
     "name": "stdout",
     "output_type": "stream",
     "text": [
      "Final Average Temperature: 24.860000000000003\n"
     ]
    }
   ],
   "source": [
    "from functools import reduce\n",
    "temp=[30.2,20.1,25.4,23.5,31.8,29.9,30.4,24.6,26.7,32.3]\n",
    "adjusted_temp=list(map(lambda x: x+0.8,temp))\n",
    "filtered_temp=list(filter(lambda x: x<30,adjusted_temp))\n",
    "final_average=reduce(lambda x,y: x+y,filtered_temp)/len(filtered_temp)\n",
    "print(\"Final Average Temperature:\",final_average)"
   ]
  },
  {
   "cell_type": "markdown",
   "id": "92f9e43b",
   "metadata": {},
   "source": [
    "calculate the amount of successful transactions"
   ]
  },
  {
   "cell_type": "code",
   "execution_count": 10,
   "id": "e9e986bc",
   "metadata": {},
   "outputs": [
    {
     "name": "stdout",
     "output_type": "stream",
     "text": [
      "Total Amount of Completed Orders: 860\n"
     ]
    }
   ],
   "source": [
    "orders=[\n",
    "    {\"amount\":240,\"status\":\"completed\"},\n",
    "    {\"amount\":100,\"status\":\"canceled\"}, \n",
    "    {\"amount\":120,\"status\":\"completed\"},\n",
    "    {\"amount\":300,\"status\":\"completed\"},\n",
    "    {\"amount\":150,\"status\":\"canceled\"},\n",
    "    {\"amount\":200,\"status\":\"completed\"},\n",
    "    {\"amount\":100,\"status\":\"canceled\"}\n",
    "]\n",
    "completed_orders=list(filter(lambda x: x['status']==\"completed\",orders))\n",
    "total_amount=reduce(lambda total,amount_fin: total+amount_fin['amount'],completed_orders,0)\n",
    "print(\"Total Amount of Completed Orders:\",total_amount)\n"
   ]
  },
  {
   "cell_type": "code",
   "execution_count": null,
   "id": "11d6f7f4",
   "metadata": {},
   "outputs": [],
   "source": []
  }
 ],
 "metadata": {
  "kernelspec": {
   "display_name": "Python 3",
   "language": "python",
   "name": "python3"
  },
  "language_info": {
   "codemirror_mode": {
    "name": "ipython",
    "version": 3
   },
   "file_extension": ".py",
   "mimetype": "text/x-python",
   "name": "python",
   "nbconvert_exporter": "python",
   "pygments_lexer": "ipython3",
   "version": "3.11.9"
  }
 },
 "nbformat": 4,
 "nbformat_minor": 5
}
