{
 "cells": [
  {
   "cell_type": "code",
   "execution_count": 85,
   "id": "b08c98c2",
   "metadata": {},
   "outputs": [],
   "source": [
    "from functools import reduce"
   ]
  },
  {
   "cell_type": "code",
   "execution_count": 86,
   "id": "e34b0668",
   "metadata": {},
   "outputs": [],
   "source": [
    "customers = [\n",
    "    {\"customerid\":\"1234\",\"usage\":[12,8,2,13,18],\"region\":\"Mumbai\"},\n",
    "    {\"customerid\":\"5678\",\"usage\":[15,10,5,20,17],\"region\":\"Mumbai\"},\n",
    "    {\"customerid\":\"9101\",\"usage\":[8,19,23,2,45],\"region\":\"Mumbai\"},\n",
    "    {\"customerid\":\"1121\",\"usage\":[10,10,40,10,20],\"region\":\"Mumbai\"},\n",
    "    {\"customerid\":\"3141\",\"usage\":[5,5,35,5,15],\"region\":\"Mumbai\"},\n",
    "    {\"customerid\":\"4151\",\"usage\":[20,28,20,10,20],\"region\":\"Mumbai\"},\n",
    "    {\"customerid\":\"5161\",\"usage\":[18,12,30,25,15],\"region\":\"Pune\"},\n",
    "    {\"customerid\":\"6171\",\"usage\":[22,14,10,28,36],\"region\":\"Mumbai\"},\n",
    "    {\"customerid\":\"7181\",\"usage\":[9,15,12,19,21],\"region\":\"Mumbai\"},\n",
    "    {\"customerid\":\"8191\",\"usage\":[30,25,80,20,10],\"region\":\"Mumbai\"},\n",
    "    {\"customerid\":\"9201\",\"usage\":[14,22,18,26,12],\"region\":\"Mumbai\"},\n",
    "    {\"customerid\":\"1011\",\"usage\":[7,11,9,13,8],\"region\":\"Mumbai\"},\n",
    "    {\"customerid\":\"1112\",\"usage\":[25,30,20,35,15],\"region\":\"Mumbai\"},\n",
    "    {\"customerid\":\"1213\",\"usage\":[19,28,14,22,17],\"region\":\"Pune\"},\n",
    "    {\"customerid\":\"1314\",\"usage\":[32,18,25,12,20],\"region\":\"Pune\"},\n",
    "    {\"customerid\":\"1415\",\"usage\":[18,22,15,30,25],\"region\":\"Pune\"},\n",
    "    {\"customerid\":\"1516\",\"usage\":[12,16,28,20,14],\"region\":\"Pune\"},\n",
    "    {\"customerid\":\"1617\",\"usage\":[40,32,20,18,25],\"region\":\"Pune\"},\n",
    "    {\"customerid\":\"1718\",\"usage\":[10,12,18,15,22],\"region\":\"Thane\"},\n",
    "    {\"customerid\":\"1819\",\"usage\":[28,24,30,36,22],\"region\":\"Thane\"},\n",
    "    {\"customerid\":\"1920\",\"usage\":[14,20,10,25,18],\"region\":\"Thane\"},\n",
    "    {\"customerid\":\"2021\",\"usage\":[8,15,12,20,10],\"region\":\"Thane\"},\n",
    "    {\"customerid\":\"2122\",\"usage\":[22,28,35,18,26],\"region\":\"Thane\"},\n",
    "    {\"customerid\":\"2223\",\"usage\":[30,25,40,28,32],\"region\":\"Thane\"},\n",
    "    {\"customerid\":\"2324\",\"usage\":[16,12,14,18,20],\"region\":\"Thane\"}\n",
    "]\n"
   ]
  },
  {
   "cell_type": "code",
   "execution_count": 87,
   "id": "2345c442",
   "metadata": {},
   "outputs": [],
   "source": [
    "def average_usage(customers):\n",
    "    avg_use = []\n",
    "    for customer in customers:\n",
    "        total = reduce(lambda x, y: x + y, customer['usage'], 0)\n",
    "        avg = total / len(customer['usage']) if customer['usage'] else 0\n",
    "        avg_use.append({\"customerid\": customer['customerid'], \"average_usage\": avg,\"region\": customer['region']})\n",
    "    return avg_use"
   ]
  },
  {
   "cell_type": "code",
   "execution_count": 88,
   "id": "4c06616f",
   "metadata": {},
   "outputs": [
    {
     "name": "stdout",
     "output_type": "stream",
     "text": [
      "{'customerid': '1234', 'average_usage': 10.6, 'region': 'Mumbai'}\n",
      "{'customerid': '5678', 'average_usage': 13.4, 'region': 'Mumbai'}\n",
      "{'customerid': '9101', 'average_usage': 19.4, 'region': 'Mumbai'}\n",
      "{'customerid': '1121', 'average_usage': 18.0, 'region': 'Mumbai'}\n",
      "{'customerid': '3141', 'average_usage': 13.0, 'region': 'Mumbai'}\n",
      "{'customerid': '4151', 'average_usage': 19.6, 'region': 'Mumbai'}\n",
      "{'customerid': '5161', 'average_usage': 20.0, 'region': 'Pune'}\n",
      "{'customerid': '6171', 'average_usage': 22.0, 'region': 'Mumbai'}\n",
      "{'customerid': '7181', 'average_usage': 15.2, 'region': 'Mumbai'}\n",
      "{'customerid': '8191', 'average_usage': 33.0, 'region': 'Mumbai'}\n",
      "{'customerid': '9201', 'average_usage': 18.4, 'region': 'Mumbai'}\n",
      "{'customerid': '1011', 'average_usage': 9.6, 'region': 'Mumbai'}\n",
      "{'customerid': '1112', 'average_usage': 25.0, 'region': 'Mumbai'}\n",
      "{'customerid': '1213', 'average_usage': 20.0, 'region': 'Pune'}\n",
      "{'customerid': '1314', 'average_usage': 21.4, 'region': 'Pune'}\n",
      "{'customerid': '1415', 'average_usage': 22.0, 'region': 'Pune'}\n",
      "{'customerid': '1516', 'average_usage': 18.0, 'region': 'Pune'}\n",
      "{'customerid': '1617', 'average_usage': 27.0, 'region': 'Pune'}\n",
      "{'customerid': '1718', 'average_usage': 15.4, 'region': 'Thane'}\n",
      "{'customerid': '1819', 'average_usage': 28.0, 'region': 'Thane'}\n",
      "{'customerid': '1920', 'average_usage': 17.4, 'region': 'Thane'}\n",
      "{'customerid': '2021', 'average_usage': 13.0, 'region': 'Thane'}\n",
      "{'customerid': '2122', 'average_usage': 25.8, 'region': 'Thane'}\n",
      "{'customerid': '2223', 'average_usage': 31.0, 'region': 'Thane'}\n",
      "{'customerid': '2324', 'average_usage': 16.0, 'region': 'Thane'}\n"
     ]
    }
   ],
   "source": [
    "avg_usage=average_usage(customers)\n",
    "for usage in avg_usage:\n",
    "    print(usage)"
   ]
  },
  {
   "cell_type": "code",
   "execution_count": 89,
   "id": "d2f26367",
   "metadata": {},
   "outputs": [],
   "source": [
    "def peak_of_user(customer):\n",
    "    peak_of_cust=[]\n",
    "    for customer in customers:\n",
    "        \n",
    "        peak=list(filter(lambda x: x > 20, customer['usage']))\n",
    "        if peak:\n",
    "            peak_of_cust.append({\"customerid\":customer['customerid'],\"peak_usage\":peak,\"region\": customer['region']})\n",
    "    return peak_of_cust"
   ]
  },
  {
   "cell_type": "code",
   "execution_count": 117,
   "id": "745086fc",
   "metadata": {},
   "outputs": [
    {
     "name": "stdout",
     "output_type": "stream",
     "text": [
      "Customer with id 9101 and living in Mumbai has peak usage of total 68 units \n",
      "Customer with id 1121 and living in Mumbai has peak usage of total 40 units \n",
      "Customer with id 3141 and living in Mumbai has peak usage of total 35 units \n",
      "Customer with id 4151 and living in Mumbai has peak usage of total 28 units \n",
      "Customer with id 5161 and living in Pune has peak usage of total 55 units \n",
      "Customer with id 6171 and living in Mumbai has peak usage of total 86 units \n",
      "Customer with id 7181 and living in Mumbai has peak usage of total 21 units \n",
      "Customer with id 8191 and living in Mumbai has peak usage of total 135 units \n",
      "Customer with id 9201 and living in Mumbai has peak usage of total 48 units \n",
      "Customer with id 1112 and living in Mumbai has peak usage of total 90 units \n",
      "Customer with id 1213 and living in Pune has peak usage of total 50 units \n",
      "Customer with id 1314 and living in Pune has peak usage of total 57 units \n",
      "Customer with id 1415 and living in Pune has peak usage of total 77 units \n",
      "Customer with id 1516 and living in Pune has peak usage of total 28 units \n",
      "Customer with id 1617 and living in Pune has peak usage of total 97 units \n",
      "Customer with id 1718 and living in Thane has peak usage of total 22 units \n",
      "Customer with id 1819 and living in Thane has peak usage of total 140 units \n",
      "Customer with id 1920 and living in Thane has peak usage of total 25 units \n",
      "Customer with id 2122 and living in Thane has peak usage of total 111 units \n",
      "Customer with id 2223 and living in Thane has peak usage of total 155 units \n"
     ]
    }
   ],
   "source": [
    "peak=peak_of_user(customers)\n",
    "for usage in peak:\n",
    "    print(f\"Customer with id {usage['customerid']} and living in {usage['region']} has peak usage of total {sum(usage['peak_usage'])} units \")\n"
   ]
  },
  {
   "cell_type": "code",
   "execution_count": 97,
   "id": "936536ed",
   "metadata": {},
   "outputs": [],
   "source": [
    "mumbai_users=list(filter(lambda x: x['region']=='Mumbai',avg_usage))\n",
    "pune_users=list(filter(lambda x: x['region']=='Pune',avg_usage))\n",
    "thane_users=list(filter(lambda x: x['region']=='Thane',avg_usage))\n"
   ]
  },
  {
   "cell_type": "code",
   "execution_count": 109,
   "id": "0b8d6230",
   "metadata": {},
   "outputs": [],
   "source": [
    "mumbai_avg=(reduce(lambda x, y: x + y[\"average_usage\"], mumbai_users, 0) / len(mumbai_users) if mumbai_users else 0)\n",
    "pune_avg=(reduce(lambda x,y:x+y[\"average_usage\"],pune_users,0) / len(pune_users) if pune_users else 0)\n",
    "thane_avg=(reduce(lambda x,y:x+y[\"average_usage\"],thane_users,0) / len(thane_users) if thane_users else 0)\n"
   ]
  },
  {
   "cell_type": "code",
   "execution_count": 99,
   "id": "e7d5afb3",
   "metadata": {},
   "outputs": [],
   "source": [
    "def total_usage(customers):\n",
    "    total_use = []\n",
    "    for customer in customers:\n",
    "        total = reduce(lambda x, y: x + y, customer['usage'], 0)\n",
    "        total_use.append(total)\n",
    "\n",
    "    return total_use"
   ]
  },
  {
   "cell_type": "code",
   "execution_count": 112,
   "id": "339dfe67",
   "metadata": {},
   "outputs": [
    {
     "name": "stdout",
     "output_type": "stream",
     "text": [
      "=========================================\n",
      "                Summary                 \n",
      "=========================================\n",
      "Region                 Average Usage    \n",
      "Mumbai               18.099999999999998 \n",
      "Pune                 21.400000000000002 \n",
      "Thane                20.942857142857143 \n",
      "-----------------------------------------\n"
     ]
    }
   ],
   "source": [
    "total_usag=total_usage(customers)\n",
    "print(\"=========================================\")\n",
    "print(f\"{'Summary':^40}\")\n",
    "print(\"=========================================\")\n",
    "print(f\"{'Region':<20}{'Average Usage':^20}\")\n",
    "print(f\"{'Mumbai':<20}{mumbai_avg:^20}\")\n",
    "print(f\"{'Pune':<20}{pune_avg:^20}\")\n",
    "print(f\"{'Thane':<20}{thane_avg:^20}\")\n",
    "print(\"-----------------------------------------\")"
   ]
  },
  {
   "cell_type": "code",
   "execution_count": null,
   "id": "af230634",
   "metadata": {},
   "outputs": [],
   "source": []
  }
 ],
 "metadata": {
  "kernelspec": {
   "display_name": "Python 3",
   "language": "python",
   "name": "python3"
  },
  "language_info": {
   "codemirror_mode": {
    "name": "ipython",
    "version": 3
   },
   "file_extension": ".py",
   "mimetype": "text/x-python",
   "name": "python",
   "nbconvert_exporter": "python",
   "pygments_lexer": "ipython3",
   "version": "3.11.9"
  }
 },
 "nbformat": 4,
 "nbformat_minor": 5
}
