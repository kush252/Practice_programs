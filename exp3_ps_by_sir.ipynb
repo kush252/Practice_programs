{
 "cells": [
  {
   "cell_type": "markdown",
   "id": "5d9eddc3",
   "metadata": {},
   "source": [
    "filter and reduce the list of temperatures"
   ]
  },
  {
   "cell_type": "code",
   "execution_count": 1,
   "id": "08b72302",
   "metadata": {},
   "outputs": [
    {
     "name": "stdout",
     "output_type": "stream",
     "text": [
      "Final Average Temperature: 24.860000000000003\n"
     ]
    }
   ],
   "source": [
    "from functools import reduce\n",
    "temp=[30.2,20.1,25.4,23.5,31.8,29.9,30.4,24.6,26.7,32.3]\n",
    "adjusted_temp=list(map(lambda x: x+0.8,temp))\n",
    "filtered_temp=list(filter(lambda x: x<30,adjusted_temp))\n",
    "final_average=reduce(lambda x,y: x+y,filtered_temp)/len(filtered_temp)\n",
    "print(\"Final Average Temperature:\",final_average)"
   ]
  },
  {
   "cell_type": "markdown",
   "id": "e786cbb3",
   "metadata": {},
   "source": [
    "calculate the amount of successful transactions"
   ]
  },
  {
   "cell_type": "code",
   "execution_count": 3,
   "id": "2dd6e576",
   "metadata": {},
   "outputs": [
    {
     "name": "stdout",
     "output_type": "stream",
     "text": [
      "Total Amount of Completed Orders: 860\n"
     ]
    }
   ],
   "source": [
    "orders=[\n",
    "    {\"amount\":240,\"status\":\"completed\"},\n",
    "    {\"amount\":100,\"status\":\"canceled\"}, \n",
    "    {\"amount\":120,\"status\":\"completed\"},\n",
    "    {\"amount\":300,\"status\":\"completed\"},\n",
    "    {\"amount\":150,\"status\":\"canceled\"},\n",
    "    {\"amount\":200,\"status\":\"completed\"},\n",
    "    {\"amount\":100,\"status\":\"canceled\"}\n",
    "]\n",
    "completed_orders=list(filter(lambda x: x['status']==\"completed\",orders))\n",
    "total_amount=reduce(lambda total,amount_fin: total+amount_fin['amount'],completed_orders,0)\n",
    "print(\"Total Amount of Completed Orders:\",total_amount)\n"
   ]
  }
 ],
 "metadata": {
  "kernelspec": {
   "display_name": "Python 3",
   "language": "python",
   "name": "python3"
  },
  "language_info": {
   "codemirror_mode": {
    "name": "ipython",
    "version": 3
   },
   "file_extension": ".py",
   "mimetype": "text/x-python",
   "name": "python",
   "nbconvert_exporter": "python",
   "pygments_lexer": "ipython3",
   "version": "3.11.9"
  }
 },
 "nbformat": 4,
 "nbformat_minor": 5
}
