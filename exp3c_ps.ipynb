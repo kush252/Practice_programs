{
 "cells": [
  {
   "cell_type": "markdown",
   "id": "2f926068",
   "metadata": {},
   "source": [
    "### problem statements in exp3c"
   ]
  },
  {
   "cell_type": "markdown",
   "id": "1a2ea792",
   "metadata": {},
   "source": [
    "1.\tWrite a Python program to sort a list of tuples using Lambda.\n",
    "2.\tWrite a Python program to square and cube every number in a given list of integers using Lambda with map.\n",
    "3.\tWrite a Python program to add two given lists and find the difference between them. Use the map() function with function.\n",
    "4.\tWrite a Python program that creates a list of dictionaries containing student information (name, age, grade) and uses the filter function to extract students with a grade greater than or equal to 95.\n",
    "5.\tWAP to Calculate the product of the numbers from 1 to 100 using reduce function.\n"
   ]
  },
  {
   "cell_type": "code",
   "execution_count": 3,
   "id": "79740eac",
   "metadata": {},
   "outputs": [
    {
     "name": "stdout",
     "output_type": "stream",
     "text": [
      "\n",
      "Sorted by name:\n",
      "[('Alice', 22), ('Bob', 30), ('Diana', 19), ('John', 25)]\n"
     ]
    }
   ],
   "source": [
    "students = [(\"John\", 25), (\"Alice\", 22), (\"Bob\", 30), (\"Diana\", 19)]\n",
    "\n",
    "sorted_by_name = sorted(students,key=lambda student: student[0])\n",
    "print(\"\\nSorted by name:\")\n",
    "print(sorted_by_name)\n"
   ]
  },
  {
   "cell_type": "code",
   "execution_count": 4,
   "id": "e2ec237d",
   "metadata": {},
   "outputs": [
    {
     "name": "stdout",
     "output_type": "stream",
     "text": [
      "Squares: [1, 4, 9, 16, 25]\n",
      "Cubes: [1, 8, 27, 64, 125]\n"
     ]
    }
   ],
   "source": [
    "numbers = [1, 2, 3, 4, 5]\n",
    "\n",
    "squares = list(map(lambda x: x**2, numbers))\n",
    "print(\"Squares:\", squares)\n",
    "\n",
    "cubes = list(map(lambda x: x**3, numbers))\n",
    "print(\"Cubes:\", cubes)"
   ]
  },
  {
   "cell_type": "code",
   "execution_count": 5,
   "id": "b4031ab0",
   "metadata": {},
   "outputs": [
    {
     "name": "stdout",
     "output_type": "stream",
     "text": [
      "List 1: [10, 20, 30, 40, 50]\n",
      "List 2: [1, 2, 3, 4, 5]\n",
      "Addition: [11, 22, 33, 44, 55]\n",
      "Difference: [9, 18, 27, 36, 45]\n"
     ]
    }
   ],
   "source": [
    "list1 = [10, 20, 30, 40, 50]\n",
    "list2 = [1, 2, 3, 4, 5]\n",
    "\n",
    "print(\"List 1:\", list1)\n",
    "print(\"List 2:\", list2)\n",
    "\n",
    "def add_numbers(x, y):\n",
    "    return x + y\n",
    "\n",
    "def subtract_numbers(x, y):\n",
    "    return x - y\n",
    "\n",
    "addition = list(map(add_numbers, list1, list2))\n",
    "print(\"Addition:\", addition)\n",
    "\n",
    "difference = list(map(subtract_numbers, list1, list2))\n",
    "print(\"Difference:\", difference)"
   ]
  },
  {
   "cell_type": "code",
   "execution_count": 7,
   "id": "8ec262fe",
   "metadata": {},
   "outputs": [
    {
     "name": "stdout",
     "output_type": "stream",
     "text": [
      "\n",
      "Students with grade >= 95:\n",
      "Name: Alice, Age: 20, Grade: 98\n",
      "Name: Diana, Age: 20, Grade: 96\n",
      "Name: Frank, Age: 19, Grade: 95\n"
     ]
    }
   ],
   "source": [
    "students = [\n",
    "    {\"name\": \"Alice\", \"age\": 20, \"grade\": 98},\n",
    "    {\"name\": \"Bob\", \"age\": 19, \"grade\": 85},\n",
    "    {\"name\": \"Charlie\", \"age\": 21, \"grade\": 92},\n",
    "    {\"name\": \"Diana\", \"age\": 20, \"grade\": 96},\n",
    "    {\"name\": \"Eve\", \"age\": 22, \"grade\": 88},\n",
    "    {\"name\": \"Frank\", \"age\": 19, \"grade\": 95}\n",
    "]\n",
    "\n",
    "high_achievers = list(filter(lambda student: student['grade'] >= 95, students))\n",
    "\n",
    "print(\"\\nStudents with grade >= 95:\")\n",
    "for student in high_achievers:\n",
    "    print(f\"Name: {student['name']}, Age: {student['age']}, Grade: {student['grade']}\")"
   ]
  },
  {
   "cell_type": "code",
   "execution_count": 9,
   "id": "0cc4f0a1",
   "metadata": {},
   "outputs": [
    {
     "name": "stdout",
     "output_type": "stream",
     "text": [
      "Product of numbers from 1 to 100:\n",
      "93326215443944152681699238856266700490715968264381621468592963895217599993229915608941463976156518286253697920827223758251185210916864000000000000000000000000\n"
     ]
    }
   ],
   "source": [
    "from functools import reduce\n",
    "\n",
    "numbers = range(1, 101)\n",
    "\n",
    "product = reduce(lambda x, y: x * y, numbers)\n",
    "\n",
    "print(\"Product of numbers from 1 to 100:\")\n",
    "print(product)"
   ]
  },
  {
   "cell_type": "code",
   "execution_count": null,
   "id": "bded8e2a",
   "metadata": {},
   "outputs": [],
   "source": []
  }
 ],
 "metadata": {
  "kernelspec": {
   "display_name": "Python 3",
   "language": "python",
   "name": "python3"
  },
  "language_info": {
   "codemirror_mode": {
    "name": "ipython",
    "version": 3
   },
   "file_extension": ".py",
   "mimetype": "text/x-python",
   "name": "python",
   "nbconvert_exporter": "python",
   "pygments_lexer": "ipython3",
   "version": "3.11.9"
  }
 },
 "nbformat": 4,
 "nbformat_minor": 5
}
