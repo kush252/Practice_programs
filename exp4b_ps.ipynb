{
 "cells": [
  {
   "cell_type": "markdown",
   "id": "25e44232",
   "metadata": {},
   "source": [
    "2.\tCreate an Employee class with the following characteristics:A constructor (__init__) that initializes the attributes (employee_id, first_name, last_name, email, and salary) when an object is created.A method called display_employee_details that prints the employee's details in a well-formatted manner. Create several instances of the Employee class, each representing different employees in a company. Calculate and print the average salary of all employees. Add a class variable called employee_count to keep track of the number of employee objects created. Update this variable within the constructor. Create a class method called get_employee_count that returns the total number of employees."
   ]
  },
  {
   "cell_type": "code",
   "execution_count": null,
   "id": "056d1e6e",
   "metadata": {},
   "outputs": [
    {
     "name": "stdout",
     "output_type": "stream",
     "text": [
      "Employee name: Kush Bhogate\n",
      "Employee Id: 1\n",
      "Email: kush.dfd@example.com\n",
      "Salary: 50000\n",
      "Employee name: kfidf sdfsd\n",
      "Employee Id: 2\n",
      "Email: kdfsdf.dfd@example.com\n",
      "Salary: 50000\n",
      "Employee name: sdfsd sdf\n",
      "Employee Id: 3\n",
      "Email: sdfsd.dofdfe@example.com\n",
      "Salary: 50000\n",
      "Total number of employees: 3\n",
      "Average salary: 50000.0\n"
     ]
    }
   ],
   "source": [
    "class Employee:\n",
    "    emp_count=0\n",
    "    total_salary=0\n",
    "    def __init__(self, employee_id, first_name, last_name, email, salary):\n",
    "        self.employee_id = employee_id\n",
    "        self.first_name = first_name\n",
    "        self.last_name = last_name\n",
    "        self.email = email\n",
    "        self.salary = salary\n",
    "        Employee.emp_count += 1\n",
    "        Employee.total_salary += salary\n",
    "\n",
    "    def display_employee_details(self):\n",
    "        print(f\"Employee name: {self.first_name} {self.last_name}\")\n",
    "        print(f\"Employee Id: {self.employee_id}\")\n",
    "        print(f\"Email: {self.email}\")\n",
    "        print(f\"Salary: {self.salary}\")\n",
    "\n",
    "    @classmethod\n",
    "    def display_employee_count(cls):\n",
    "        print(f\"Total number of employees: {cls.emp_count}\")\n",
    "\n",
    "    @classmethod\n",
    "    def average_salary(cls):\n",
    "        if cls.emp_count == 0:\n",
    "            return 0\n",
    "        return cls.total_salary / cls.emp_count\n",
    "\n",
    "emp1=Employee(1, \"Kush\", \"Bhogate\", \"kush.dfd@example.com\", 50000)\n",
    "emp1.display_employee_details()\n",
    "\n",
    "emp2=Employee(2, \"kfidf\", \"sdfsd\", \"kdfsdf.dfd@example.com\", 50000)\n",
    "emp2.display_employee_details()\n",
    "\n",
    "emp3=Employee(3, \"sdfsd\", \"sdf\", \"sdfsd.dofdfe@example.com\", 50000)\n",
    "emp3.display_employee_details()\n",
    "Employee.display_employee_count()\n",
    "\n",
    "print(f\"Average salary: {Employee.average_salary()}\")   "
   ]
  },
  {
   "cell_type": "markdown",
   "id": "ac902ccf",
   "metadata": {},
   "source": [
    "3.\tCreate a Python class called Product that represents products in an inventory. Use a static variable called total_products to keep track of the total number of product instances created. Implement a static method to retrieve the total count."
   ]
  },
  {
   "cell_type": "code",
   "execution_count": 10,
   "id": "487f3d9d",
   "metadata": {},
   "outputs": [
    {
     "name": "stdout",
     "output_type": "stream",
     "text": [
      "Total products created: 3\n"
     ]
    }
   ],
   "source": [
    "class Product:\n",
    "    total_products = 0\n",
    "\n",
    "    def __init__(self, product_id, product_name, price):\n",
    "        self.product_id = product_id\n",
    "        self.product_name = product_name\n",
    "        self.price = price\n",
    "        Product.total_products += 1\n",
    "\n",
    "    @staticmethod\n",
    "    def get_total_products():\n",
    "        return Product.total_products\n",
    "\n",
    "p1 = Product(1, \"Product1\", 100)\n",
    "p2 = Product(2, \"Product2\", 200)\n",
    "p3 = Product(3, \"Product3\", 300)\n",
    "\n",
    "print(f\"Total products created: {Product.get_total_products()}\")"
   ]
  },
  {
   "cell_type": "markdown",
   "id": "32a9e353",
   "metadata": {},
   "source": [
    "4.\tCreate a Library class that manages a catalog of books. Use an inner class called Book to represent individual books with attributes like title, author, and ISBN. The Library class should have methods for adding books, searching for books by title and displaying the book catalog."
   ]
  },
  {
   "cell_type": "code",
   "execution_count": null,
   "id": "165891a8",
   "metadata": {},
   "outputs": [
    {
     "name": "stdout",
     "output_type": "stream",
     "text": [
      "Book 'Hands-On Machine Learning with Scikit-Learn, Keras, and TensorFlow' added to the catalog.\n",
      "Book 'Python Programming' added to the catalog.\n",
      "Book 'Deep Learning for Computer Vision with Python' added to the catalog.\n",
      "\n",
      "Search for 'Python':\n",
      "Books found:\n",
      "Title: Python Programming, Author: John Zelle, ISBN: 9781590282410\n",
      "Title: Deep Learning for Computer Vision with Python, Author: Adrian Rosebrock, ISBN: 780201616224\n",
      "\n",
      "Display full catalog:\n",
      "Library Catalog:\n",
      "Title: Hands-On Machine Learning with Scikit-Learn, Keras, and TensorFlow, Author: Aurélien Géron, ISBN: 9780061122415\n",
      "Title: Python Programming, Author: John Zelle, ISBN: 9781590282410\n",
      "Title: Deep Learning for Computer Vision with Python, Author: Adrian Rosebrock, ISBN: 780201616224\n"
     ]
    }
   ],
   "source": [
    "class Library:\n",
    "    def __init__(self):\n",
    "        self.catalog = []  \n",
    "\n",
    "    class Book:\n",
    "        def __init__(self, title, author, isbn):\n",
    "            self.title = title\n",
    "            self.author = author\n",
    "            self.isbn = isbn\n",
    "\n",
    "        def __str__(self):\n",
    "            return f\"Title: {self.title}, Author: {self.author}, ISBN: {self.isbn}\"\n",
    "\n",
    "    def add_book(self, title, author, isbn):\n",
    "        book = self.Book(title, author, isbn)\n",
    "        self.catalog.append(book)\n",
    "        print(f\"Book '{title}' added to the catalog.\")\n",
    "\n",
    "    def search_by_title(self, title):\n",
    "        found_books = [book for book in self.catalog if title.lower() in book.title.lower()]\n",
    "        if found_books:\n",
    "            print(\"Books found:\")\n",
    "            for book in found_books:\n",
    "                print(book)\n",
    "        else:\n",
    "            print(f\"No books found with title containing '{title}'.\")\n",
    "\n",
    "    def display_catalog(self):\n",
    "        if not self.catalog:\n",
    "            print(\"The catalog is empty.\")\n",
    "        else:\n",
    "            print(\"Library Catalog:\")\n",
    "            for book in self.catalog:\n",
    "                print(book)\n",
    "\n",
    "\n",
    "\n",
    "library = Library()\n",
    "library.add_book(\"Hands-On Machine Learning with Scikit-Learn, Keras, and TensorFlow\", \"Aurélien Géron\", \"9780061122415\")\n",
    "library.add_book(\"Python Programming\", \"John Zelle\", \"9781590282410\")\n",
    "library.add_book(\"Deep Learning for Computer Vision with Python\", \"Adrian Rosebrock\", \"780201616224\")\n",
    "\n",
    "print(\"\\nSearch for 'Python':\")\n",
    "library.search_by_title(\"Python\")\n",
    "\n",
    "print(\"\\nDisplay full catalog:\")\n",
    "library.display_catalog()\n"
   ]
  },
  {
   "cell_type": "code",
   "execution_count": null,
   "id": "db828c83",
   "metadata": {},
   "outputs": [],
   "source": [
    "class Library:\n",
    "    books={}\n",
    "    log_in_outs=[]\n",
    "    def __init__(self,person,book):\n",
    "        if person.designation==\"Student\":\n",
    "            self.person=person\n",
    "            log_stat=person.\n",
    "            Library.log_in_outs.append({\"status\"})\n",
    "            self.books = {}\n",
    "        self.log_in_outs = log_in_out\n",
    "class Person:\n",
    "    def __init__(self, designation, name, age):\n",
    "        self.designation=designation\n",
    "        self.name = name\n",
    "        self.age = age\n",
    "\n",
    "class Student(Person):\n",
    "    def __init__(self, name, age, student_id, books_taken=0, books_taken_name=None,login_status=''):\n",
    "        super().__init__(\"Student\", name, age)\n",
    "        self.student_id = student_id\n",
    "        self.books_taken = books_taken\n",
    "        self.books_taken_name = books_taken_name if books_taken_name is not None else []\n",
    "\n",
    "    def withdraw(self,num,book_name):\n",
    "        if num > self.books_taken:\n",
    "            print(\"Cannot withdraw more books than taken.\")\n",
    "            return\n",
    "        self.books_taken += num\n",
    "        self.books_taken_name.append(book_name)\n",
    "        print(f\"Withdrawn {num} copies of {book_name}.\")\n",
    "\n",
    "class Faculty(Person):\n",
    "    pass\n",
    "\n",
    "class Librarian(Person):\n",
    "    pass\n",
    "\n",
    "class Staff(Person):\n",
    "    pass\n"
   ]
  },
  {
   "cell_type": "markdown",
   "id": "30ac3d5d",
   "metadata": {},
   "source": [
    "5.\tImplement a polymorphic behavior by creating a base class Shape with a method area. Derive subclasses like Circle, Rectangle, and Triangle, each with its implementation of the area method. Demonstrate polymorphism by calculating and printing the areas of different shapes"
   ]
  },
  {
   "cell_type": "code",
   "execution_count": 14,
   "id": "606f9723",
   "metadata": {},
   "outputs": [
    {
     "name": "stdout",
     "output_type": "stream",
     "text": [
      "Circle area: 78.54\n",
      "Rectangle area: 24.00\n",
      "Triangle area: 10.50\n"
     ]
    }
   ],
   "source": [
    "import math\n",
    "\n",
    "\n",
    "class Shape:\n",
    "    def area(self):\n",
    "        raise NotImplementedError(\"Subclasses must implement this method\")\n",
    "\n",
    "\n",
    "class Circle(Shape):\n",
    "    def __init__(self, radius):\n",
    "        self.radius = radius\n",
    "\n",
    "    def area(self):\n",
    "        return math.pi * self.radius ** 2\n",
    "\n",
    "\n",
    "class Rectangle(Shape):\n",
    "    def __init__(self, length, width):\n",
    "        self.length = length\n",
    "        self.width = width\n",
    "\n",
    "    def area(self):\n",
    "        return self.length * self.width\n",
    "\n",
    "\n",
    "class Triangle(Shape):\n",
    "    def __init__(self, base, height):\n",
    "        self.base = base\n",
    "        self.height = height\n",
    "\n",
    "    def area(self):\n",
    "        return 0.5 * self.base * self.height\n",
    "\n",
    "\n",
    "shapes = [\n",
    "    Circle(5),\n",
    "    Rectangle(4, 6),\n",
    "    Triangle(3, 7)\n",
    "]\n",
    "\n",
    "for shape in shapes:\n",
    "    print(f\"{shape.__class__.__name__} area: {shape.area():.2f}\")\n"
   ]
  },
  {
   "cell_type": "code",
   "execution_count": null,
   "id": "44e56210",
   "metadata": {},
   "outputs": [],
   "source": []
  }
 ],
 "metadata": {
  "kernelspec": {
   "display_name": "Python 3",
   "language": "python",
   "name": "python3"
  },
  "language_info": {
   "codemirror_mode": {
    "name": "ipython",
    "version": 3
   },
   "file_extension": ".py",
   "mimetype": "text/x-python",
   "name": "python",
   "nbconvert_exporter": "python",
   "pygments_lexer": "ipython3",
   "version": "3.11.9"
  }
 },
 "nbformat": 4,
 "nbformat_minor": 5
}
