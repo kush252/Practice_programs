{
 "cells": [
  {
   "cell_type": "code",
   "execution_count": 309,
   "id": "b30535d7",
   "metadata": {},
   "outputs": [],
   "source": [
    "def calculate(*args):\n",
    "    total=0\n",
    "    for subject_marks in args:\n",
    "        total+=subject_marks\n",
    "\n",
    "    print(total)"
   ]
  },
  {
   "cell_type": "code",
   "execution_count": 310,
   "id": "dd024293",
   "metadata": {},
   "outputs": [
    {
     "name": "stdout",
     "output_type": "stream",
     "text": [
      "60\n"
     ]
    }
   ],
   "source": [
    "calculate(10,20,30)"
   ]
  },
  {
   "cell_type": "code",
   "execution_count": 319,
   "id": "2b44b5b1",
   "metadata": {},
   "outputs": [
    {
     "name": "stdout",
     "output_type": "stream",
     "text": [
      "Paragraphs: 1\n",
      "are: 1\n",
      "the: 5\n",
      "building: 1\n",
      "blocks: 1\n",
      "of: 8\n",
      "papers.: 1\n",
      "Many: 1\n",
      "students: 1\n",
      "define: 1\n",
      "paragraphs: 1\n",
      "in: 4\n",
      "terms: 1\n",
      "length:: 1\n",
      "a: 13\n",
      "paragraph: 5\n",
      "is: 6\n",
      "group: 3\n",
      "at: 1\n",
      "least: 1\n",
      "five: 1\n",
      "sentences,: 1\n",
      "half: 1\n",
      "page: 1\n",
      "long,: 1\n",
      "etc.: 1\n",
      "In: 2\n",
      "reality,: 1\n",
      "though,: 1\n",
      "unity: 1\n",
      "and: 3\n",
      "coherence: 1\n",
      "ideas: 1\n",
      "among: 1\n",
      "sentences: 3\n",
      "what: 2\n",
      "constitutes: 1\n",
      "paragraph.: 3\n",
      "A: 1\n",
      "defined: 1\n",
      "as: 2\n",
      "“a: 1\n",
      "or: 2\n",
      "single: 1\n",
      "sentence: 3\n",
      "that: 2\n",
      "forms: 1\n",
      "unit”: 1\n",
      "(Lunsford: 1\n",
      "Connors: 1\n",
      "116).: 1\n",
      "Length: 1\n",
      "appearance: 1\n",
      "do: 1\n",
      "not: 1\n",
      "determine: 1\n",
      "whether: 1\n",
      "section: 1\n",
      "paper: 1\n",
      "For: 1\n",
      "instance,: 1\n",
      "some: 1\n",
      "styles: 1\n",
      "writing,: 1\n",
      "particularly: 1\n",
      "journalistic: 1\n",
      "styles,: 1\n",
      "can: 1\n",
      "be: 1\n",
      "just: 1\n",
      "one: 2\n",
      "long.: 1\n",
      "Ultimately,: 1\n",
      "support: 1\n",
      "main: 1\n",
      "idea.: 1\n",
      "this: 2\n",
      "handout,: 1\n",
      "we: 1\n",
      "will: 1\n",
      "refer: 1\n",
      "to: 1\n",
      "“controlling: 1\n",
      "idea,”: 1\n",
      "because: 1\n",
      "it: 1\n",
      "controls: 1\n",
      "happens: 1\n",
      "rest: 1\n"
     ]
    }
   ],
   "source": [
    "sentence=\"Paragraphs are the building blocks of papers. Many students define paragraphs in terms of length: a paragraph is a group of at least five sentences, a paragraph is half a page long, etc. In reality, though, the unity and coherence of ideas among sentences is what constitutes a paragraph. A paragraph is defined as “a group of sentences or a single sentence that forms a unit” (Lunsford and Connors 116). Length and appearance do not determine whether a section in a paper is a paragraph. For instance, in some styles of writing, particularly journalistic styles, a paragraph can be just one sentence long. Ultimately, a paragraph is a sentence or group of sentences that support one main idea. In this handout, we will refer to this as the “controlling idea,” because it controls what happens in the rest of the paragraph.\"\n",
    "words = sentence.split()\n",
    "\n",
    "\n",
    "word_count = {}\n",
    "\n",
    "\n",
    "for word in words:\n",
    "    if word in word_count:\n",
    "        word_count[word] += 1   \n",
    "    else:\n",
    "        word_count[word] = 1   \n",
    "\n",
    "for worddi,count in word_count.items():\n",
    "    print(f\"{worddi}: {count}\")"
   ]
  },
  {
   "cell_type": "markdown",
   "id": "e0b50915",
   "metadata": {},
   "source": [
    "Ecommerce bill system\n",
    "bill\n",
    "shopping cart\n",
    "maximum amount \n",
    "payment mode\n"
   ]
  },
  {
   "cell_type": "code",
   "execution_count": 311,
   "id": "2ca6ad15",
   "metadata": {},
   "outputs": [],
   "source": [
    "def ecommerce(*args,**kwargs):\n",
    "    total=0.00\n",
    "    delivery_fee = 500.00\n",
    "    \n",
    "    platform_fee=200.00\n",
    "    print(\"=========================================================\")\n",
    "    print(\"Your Orders\")\n",
    "    print(\"=========================================================\")\n",
    "    print(f\"{'Food item':<20}{'Quantity':^20}{'Price per plate':^20}\")\n",
    "    for arg in args:\n",
    "        print(f\"{arg[0]:<20}{arg[1]:^20}{arg[2]:>15}\")\n",
    "        total+=(arg[1]*arg[2])\n",
    "    print(\"=========================================================\")\n",
    "    print(\"Bill Summary\")\n",
    "    print(\"=========================================================\")\n",
    "    print(f\"{'Item total:':<30} {total:>25}\")\n",
    "   \n",
    "    if total>2000:\n",
    "        delivery_fee=0.00\n",
    "        print(\"(Congratulations you unlocked free delivery!)\")\n",
    "    print(f\"{'Delivery fee:':<30} {delivery_fee:>25}\")\n",
    "    total+=delivery_fee\n",
    "\n",
    "    print(f\"{'Gst and restaurent charges:':<30} {(total*50)/100:>25}\")\n",
    "    total=(total+(total*50)/100)\n",
    "\n",
    "    print(f\"{'Platform fee:':<30} {platform_fee:>25}\")\n",
    "    total+=platform_fee\n",
    "\n",
    "    if \"payment_mode\" in kwargs:\n",
    "        print(\"--------------------------------------------------------\")\n",
    "        print(f\"{'Payment mode:':<30} {kwargs.get('payment_mode'):>25}\")\n",
    "        if kwargs.get(\"payment_mode\")==\"card\":\n",
    "            total-=200\n",
    "            print(f\"{'Card payment discount:':<30} {200:>25}\")\n",
    "        elif kwargs.get(\"payment_mode\")==\"upi\":\n",
    "            total-=100\n",
    "            print(f\"{'UPI payment discount:':<30} {100:>25}\")\n",
    "    print(\"--------------------------------------------------------\")\n",
    "    print(f\"{'Total Bill:':<30} {total:>25}\")\n",
    "\n"
   ]
  },
  {
   "cell_type": "code",
   "execution_count": null,
   "id": "15bab815",
   "metadata": {},
   "outputs": [
    {
     "name": "stdout",
     "output_type": "stream",
     "text": [
      "=========================================================\n",
      "Your Orders\n",
      "=========================================================\n",
      "Food item                 Quantity        Price per plate   \n",
      "Vadapav                      2                    200.0\n",
      "Pavbhaji                     2                    500.0\n",
      "Misal                        1                    100.0\n",
      "=========================================================\n",
      "Bill Summary\n",
      "=========================================================\n",
      "Item total:                                       1500.0\n",
      "Delivery fee:                                      500.0\n",
      "Gst and restaurent charges:                       1000.0\n",
      "Platform fee:                                      200.0\n",
      "--------------------------------------------------------\n",
      "Payment mode:                                       card\n",
      "Card payment discount:                               200\n",
      "--------------------------------------------------------\n",
      "Total Bill:                                       3000.0\n"
     ]
    }
   ],
   "source": [
    "ecommerce((\"Vadapav\",2,200.00),(\"Pavbhaji\",2,500.00),(\"misal\",1,100.00),payment_mode=\"card\")"
   ]
  }
 ],
 "metadata": {
  "kernelspec": {
   "display_name": "Python 3",
   "language": "python",
   "name": "python3"
  },
  "language_info": {
   "codemirror_mode": {
    "name": "ipython",
    "version": 3
   },
   "file_extension": ".py",
   "mimetype": "text/x-python",
   "name": "python",
   "nbconvert_exporter": "python",
   "pygments_lexer": "ipython3",
   "version": "3.11.9"
  }
 },
 "nbformat": 4,
 "nbformat_minor": 5
}
