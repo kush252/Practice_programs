{
 "cells": [
  {
   "cell_type": "code",
   "execution_count": 309,
   "id": "b30535d7",
   "metadata": {},
   "outputs": [],
   "source": [
    "def calculate(*args):\n",
    "    total=0\n",
    "    for subject_marks in args:\n",
    "        total+=subject_marks\n",
    "\n",
    "    print(total)"
   ]
  },
  {
   "cell_type": "code",
   "execution_count": 310,
   "id": "dd024293",
   "metadata": {},
   "outputs": [
    {
     "name": "stdout",
     "output_type": "stream",
     "text": [
      "60\n"
     ]
    }
   ],
   "source": [
    "calculate(10,20,30)"
   ]
  },
  {
   "cell_type": "code",
   "execution_count": 319,
   "id": "2b44b5b1",
   "metadata": {},
   "outputs": [
    {
     "name": "stdout",
     "output_type": "stream",
     "text": [
      "Paragraphs: 1\n",
      "are: 1\n",
      "the: 5\n",
      "building: 1\n",
      "blocks: 1\n",
      "of: 8\n",
      "papers.: 1\n",
      "Many: 1\n",
      "students: 1\n",
      "define: 1\n",
      "paragraphs: 1\n",
      "in: 4\n",
      "terms: 1\n",
      "length:: 1\n",
      "a: 13\n",
      "paragraph: 5\n",
      "is: 6\n",
      "group: 3\n",
      "at: 1\n",
      "least: 1\n",
      "five: 1\n",
      "sentences,: 1\n",
      "half: 1\n",
      "page: 1\n",
      "long,: 1\n",
      "etc.: 1\n",
      "In: 2\n",
      "reality,: 1\n",
      "though,: 1\n",
      "unity: 1\n",
      "and: 3\n",
      "coherence: 1\n",
      "ideas: 1\n",
      "among: 1\n",
      "sentences: 3\n",
      "what: 2\n",
      "constitutes: 1\n",
      "paragraph.: 3\n",
      "A: 1\n",
      "defined: 1\n",
      "as: 2\n",
      "“a: 1\n",
      "or: 2\n",
      "single: 1\n",
      "sentence: 3\n",
      "that: 2\n",
      "forms: 1\n",
      "unit”: 1\n",
      "(Lunsford: 1\n",
      "Connors: 1\n",
      "116).: 1\n",
      "Length: 1\n",
      "appearance: 1\n",
      "do: 1\n",
      "not: 1\n",
      "determine: 1\n",
      "whether: 1\n",
      "section: 1\n",
      "paper: 1\n",
      "For: 1\n",
      "instance,: 1\n",
      "some: 1\n",
      "styles: 1\n",
      "writing,: 1\n",
      "particularly: 1\n",
      "journalistic: 1\n",
      "styles,: 1\n",
      "can: 1\n",
      "be: 1\n",
      "just: 1\n",
      "one: 2\n",
      "long.: 1\n",
      "Ultimately,: 1\n",
      "support: 1\n",
      "main: 1\n",
      "idea.: 1\n",
      "this: 2\n",
      "handout,: 1\n",
      "we: 1\n",
      "will: 1\n",
      "refer: 1\n",
      "to: 1\n",
      "“controlling: 1\n",
      "idea,”: 1\n",
      "because: 1\n",
      "it: 1\n",
      "controls: 1\n",
      "happens: 1\n",
      "rest: 1\n"
     ]
    }
   ],
   "source": [
    "sentence=\"Paragraphs are the building blocks of papers. Many students define paragraphs in terms of length: a paragraph is a group of at least five sentences, a paragraph is half a page long, etc. In reality, though, the unity and coherence of ideas among sentences is what constitutes a paragraph. A paragraph is defined as “a group of sentences or a single sentence that forms a unit” (Lunsford and Connors 116). Length and appearance do not determine whether a section in a paper is a paragraph. For instance, in some styles of writing, particularly journalistic styles, a paragraph can be just one sentence long. Ultimately, a paragraph is a sentence or group of sentences that support one main idea. In this handout, we will refer to this as the “controlling idea,” because it controls what happens in the rest of the paragraph.\"\n",
    "words = sentence.split()\n",
    "\n",
    "\n",
    "word_count = {}\n",
    "\n",
    "\n",
    "for word in words:\n",
    "    if word in word_count:\n",
    "        word_count[word] += 1   \n",
    "    else:\n",
    "        word_count[word] = 1   \n",
    "\n",
    "for worddi,count in word_count.items():\n",
    "    print(f\"{worddi}: {count}\")"
   ]
  },
  {
   "cell_type": "markdown",
   "id": "e0b50915",
   "metadata": {},
   "source": [
    "Ecommerce bill system\n",
    "bill\n",
    "shopping cart\n",
    "maximum amount \n",
    "payment mode\n"
   ]
  },
  {
   "cell_type": "code",
   "execution_count": 311,
   "id": "2ca6ad15",
   "metadata": {},
   "outputs": [],
   "source": [
    "def ecommerce(*args,**kwargs):\n",
    "    total=0.00\n",
    "    delivery_fee = 500.00\n",
    "    \n",
    "    platform_fee=200.00\n",
    "    print(\"=========================================================\")\n",
    "    print(\"Your Orders\")\n",
    "    print(\"=========================================================\")\n",
    "    print(f\"{'Food item':<20}{'Quantity':^20}{'Price per plate':^20}\")\n",
    "    for arg in args:\n",
    "        print(f\"{arg[0]:<20}{arg[1]:^20}{arg[2]:>15}\")\n",
    "        total+=(arg[1]*arg[2])\n",
    "    print(\"=========================================================\")\n",
    "    print(\"Bill Summary\")\n",
    "    print(\"=========================================================\")\n",
    "    print(f\"{'Item total:':<30} {total:>25}\")\n",
    "   \n",
    "    if total>2000:\n",
    "        delivery_fee=0.00\n",
    "        print(\"(Congratulations you unlocked free delivery!)\")\n",
    "    print(f\"{'Delivery fee:':<30} {delivery_fee:>25}\")\n",
    "    total+=delivery_fee\n",
    "\n",
    "    print(f\"{'Gst and restaurent charges:':<30} {(total*50)/100:>25}\")\n",
    "    total=(total+(total*50)/100)\n",
    "\n",
    "    print(f\"{'Platform fee:':<30} {platform_fee:>25}\")\n",
    "    total+=platform_fee\n",
    "\n",
    "    if \"payment_mode\" in kwargs:\n",
    "        print(\"--------------------------------------------------------\")\n",
    "        print(f\"{'Payment mode:':<30} {kwargs.get('payment_mode'):>25}\")\n",
    "        if kwargs.get(\"payment_mode\")==\"card\":\n",
    "            total-=200\n",
    "            print(f\"{'Card payment discount:':<30} {200:>25}\")\n",
    "        elif kwargs.get(\"payment_mode\")==\"upi\":\n",
    "            total-=100\n",
    "            print(f\"{'UPI payment discount:':<30} {100:>25}\")\n",
    "    print(\"--------------------------------------------------------\")\n",
    "    print(f\"{'Total Bill:':<30} {total:>25}\")\n",
    "\n"
   ]
  },
  {
   "cell_type": "code",
   "execution_count": null,
   "id": "15bab815",
   "metadata": {},
   "outputs": [
    {
     "name": "stdout",
     "output_type": "stream",
     "text": [
      "=========================================================\n",
      "Your Orders\n",
      "=========================================================\n",
      "Food item                 Quantity        Price per plate   \n",
      "Vadapav                      2                    200.0\n",
      "Pavbhaji                     2                    500.0\n",
      "Misal                        1                    100.0\n",
      "=========================================================\n",
      "Bill Summary\n",
      "=========================================================\n",
      "Item total:                                       1500.0\n",
      "Delivery fee:                                      500.0\n",
      "Gst and restaurent charges:                       1000.0\n",
      "Platform fee:                                      200.0\n",
      "--------------------------------------------------------\n",
      "Payment mode:                                       card\n",
      "Card payment discount:                               200\n",
      "--------------------------------------------------------\n",
      "Total Bill:                                       3000.0\n"
     ]
    }
   ],
   "source": [
    "ecommerce((\"Vadapav\",2,200.00),(\"Pavbhaji\",2,500.00),(\"misal\",1,100.00),payment_mode=\"card\")"
   ]
  },
  {
   "cell_type": "code",
   "execution_count": 313,
   "id": "77570995",
   "metadata": {},
   "outputs": [
    {
     "data": {
      "image/png": "[encoded data removed]",
      "text/plain": [
       "<Figure size 800x600 with 1 Axes>"
      ]
     },
     "metadata": {},
     "output_type": "display_data"
    },
    {
     "data": {
      "image/png": "[encoded data removed]",
      "text/plain": [
       "<Figure size 800x600 with 1 Axes>"
      ]
     },
     "metadata": {},
     "output_type": "display_data"
    }
   ],
   "source": [
    "# ---------------------------------------------\n",
    "# OUTLIER DETECTION: Z-SCORE + ISOLATION FOREST\n",
    "# ---------------------------------------------\n",
    "\n",
    "import numpy as np\n",
    "import pandas as pd\n",
    "import matplotlib.pyplot as plt\n",
    "from sklearn.ensemble import IsolationForest\n",
    "\n",
    "# 1) Generate random dataset (pure random)\n",
    "np.random.seed(42)\n",
    "n_samples = 300\n",
    "n_features = 6\n",
    "data = np.random.randn(n_samples, n_features)    # normal distribution\n",
    "\n",
    "df = pd.DataFrame(data, columns=[f'Feature_{i+1}' for i in range(n_features)])\n",
    "\n",
    "\n",
    "# ------------------------------------------------\n",
    "# Z-SCORE outlier detection (threshold = 3)\n",
    "# ------------------------------------------------\n",
    "from scipy.stats import zscore\n",
    "\n",
    "z_scores = np.abs(zscore(df))\n",
    "z_outliers_mask = (z_scores > 5).any(axis=1)\n",
    "\n",
    "# Scatter Plot (Feature_1 vs Feature_2)\n",
    "plt.figure(figsize=(8,6))\n",
    "plt.scatter(df.loc[~z_outliers_mask, 'Feature_1'], \n",
    "            df.loc[~z_outliers_mask, 'Feature_2'],\n",
    "            label='Normal', s=30)\n",
    "\n",
    "plt.scatter(df.loc[z_outliers_mask, 'Feature_1'], \n",
    "            df.loc[z_outliers_mask, 'Feature_2'],\n",
    "            label='Outliers (Z-score)', s=30)\n",
    "\n",
    "plt.title('Z-score Outlier Detection (Feature_1 vs Feature_2)')\n",
    "plt.xlabel('Feature_1')\n",
    "plt.ylabel('Feature_2')\n",
    "plt.legend()\n",
    "plt.show()\n",
    "\n",
    "\n",
    "# ------------------------------------------------\n",
    "# ISOLATION FOREST outlier detection\n",
    "# ------------------------------------------------\n",
    "iso = IsolationForest(contamination=0.05, random_state=42)\n",
    "iso.fit(df)\n",
    "labels = iso.predict(df)\n",
    "iso_outliers_mask = (labels == -1)\n",
    "\n",
    "# Scatter Plot (Feature_1 vs Feature_2)\n",
    "plt.figure(figsize=(8,6))\n",
    "plt.scatter(df.loc[~iso_outliers_mask, 'Feature_1'], \n",
    "            df.loc[~iso_outliers_mask, 'Feature_2'],\n",
    "            label='Normal', s=30)\n",
    "\n",
    "plt.scatter(df.loc[iso_outliers_mask, 'Feature_1'], \n",
    "            df.loc[iso_outliers_mask, 'Feature_2'],\n",
    "            label='Outliers (Isolation Forest)', s=30)\n",
    "\n",
    "plt.title('Isolation Forest Outlier Detection (Feature_1 vs Feature_2)')\n",
    "plt.xlabel('Feature_1')\n",
    "plt.ylabel('Feature_2')\n",
    "plt.legend()\n",
    "plt.show()\n"
   ]
  },
  {
   "cell_type": "code",
   "execution_count": 314,
   "id": "206f8d71",
   "metadata": {},
   "outputs": [
    {
     "data": {
      "text/html": [
       "<div>\n",
       "<style scoped>\n",
       "    .dataframe tbody tr th:only-of-type {\n",
       "        vertical-align: middle;\n",
       "    }\n",
       "\n",
       "    .dataframe tbody tr th {\n",
       "        vertical-align: top;\n",
       "    }\n",
       "\n",
       "    .dataframe thead th {\n",
       "        text-align: right;\n",
       "    }\n",
       "</style>\n",
       "<table border=\"1\" class=\"dataframe\">\n",
       "  <thead>\n",
       "    <tr style=\"text-align: right;\">\n",
       "      <th></th>\n",
       "      <th>Feature_1</th>\n",
       "      <th>Feature_2</th>\n",
       "      <th>Feature_3</th>\n",
       "      <th>Feature_4</th>\n",
       "      <th>Feature_5</th>\n",
       "      <th>Feature_6</th>\n",
       "    </tr>\n",
       "  </thead>\n",
       "  <tbody>\n",
       "    <tr>\n",
       "      <th>0</th>\n",
       "      <td>0.496714</td>\n",
       "      <td>-0.138264</td>\n",
       "      <td>0.647689</td>\n",
       "      <td>1.523030</td>\n",
       "      <td>-0.234153</td>\n",
       "      <td>-0.234137</td>\n",
       "    </tr>\n",
       "    <tr>\n",
       "      <th>1</th>\n",
       "      <td>1.579213</td>\n",
       "      <td>0.767435</td>\n",
       "      <td>-0.469474</td>\n",
       "      <td>0.542560</td>\n",
       "      <td>-0.463418</td>\n",
       "      <td>-0.465730</td>\n",
       "    </tr>\n",
       "    <tr>\n",
       "      <th>2</th>\n",
       "      <td>0.241962</td>\n",
       "      <td>-1.913280</td>\n",
       "      <td>-1.724918</td>\n",
       "      <td>-0.562288</td>\n",
       "      <td>-1.012831</td>\n",
       "      <td>0.314247</td>\n",
       "    </tr>\n",
       "    <tr>\n",
       "      <th>3</th>\n",
       "      <td>-0.908024</td>\n",
       "      <td>-1.412304</td>\n",
       "      <td>1.465649</td>\n",
       "      <td>-0.225776</td>\n",
       "      <td>0.067528</td>\n",
       "      <td>-1.424748</td>\n",
       "    </tr>\n",
       "    <tr>\n",
       "      <th>4</th>\n",
       "      <td>-0.544383</td>\n",
       "      <td>0.110923</td>\n",
       "      <td>-1.150994</td>\n",
       "      <td>0.375698</td>\n",
       "      <td>-0.600639</td>\n",
       "      <td>-0.291694</td>\n",
       "    </tr>\n",
       "    <tr>\n",
       "      <th>5</th>\n",
       "      <td>-0.601707</td>\n",
       "      <td>1.852278</td>\n",
       "      <td>-0.013497</td>\n",
       "      <td>-1.057711</td>\n",
       "      <td>0.822545</td>\n",
       "      <td>-1.220844</td>\n",
       "    </tr>\n",
       "    <tr>\n",
       "      <th>6</th>\n",
       "      <td>0.208864</td>\n",
       "      <td>-1.959670</td>\n",
       "      <td>-1.328186</td>\n",
       "      <td>0.196861</td>\n",
       "      <td>0.738467</td>\n",
       "      <td>0.171368</td>\n",
       "    </tr>\n",
       "    <tr>\n",
       "      <th>7</th>\n",
       "      <td>-0.115648</td>\n",
       "      <td>-0.301104</td>\n",
       "      <td>-1.478522</td>\n",
       "      <td>-0.719844</td>\n",
       "      <td>-0.460639</td>\n",
       "      <td>1.057122</td>\n",
       "    </tr>\n",
       "    <tr>\n",
       "      <th>8</th>\n",
       "      <td>0.343618</td>\n",
       "      <td>-1.763040</td>\n",
       "      <td>0.324084</td>\n",
       "      <td>-0.385082</td>\n",
       "      <td>-0.676922</td>\n",
       "      <td>0.611676</td>\n",
       "    </tr>\n",
       "    <tr>\n",
       "      <th>9</th>\n",
       "      <td>1.031000</td>\n",
       "      <td>0.931280</td>\n",
       "      <td>-0.839218</td>\n",
       "      <td>-0.309212</td>\n",
       "      <td>0.331263</td>\n",
       "      <td>0.975545</td>\n",
       "    </tr>\n",
       "  </tbody>\n",
       "</table>\n",
       "</div>"
      ],
      "text/plain": [
       "   Feature_1  Feature_2  Feature_3  Feature_4  Feature_5  Feature_6\n",
       "0   0.496714  -0.138264   0.647689   1.523030  -0.234153  -0.234137\n",
       "1   1.579213   0.767435  -0.469474   0.542560  -0.463418  -0.465730\n",
       "2   0.241962  -1.913280  -1.724918  -0.562288  -1.012831   0.314247\n",
       "3  -0.908024  -1.412304   1.465649  -0.225776   0.067528  -1.424748\n",
       "4  -0.544383   0.110923  -1.150994   0.375698  -0.600639  -0.291694\n",
       "5  -0.601707   1.852278  -0.013497  -1.057711   0.822545  -1.220844\n",
       "6   0.208864  -1.959670  -1.328186   0.196861   0.738467   0.171368\n",
       "7  -0.115648  -0.301104  -1.478522  -0.719844  -0.460639   1.057122\n",
       "8   0.343618  -1.763040   0.324084  -0.385082  -0.676922   0.611676\n",
       "9   1.031000   0.931280  -0.839218  -0.309212   0.331263   0.975545"
      ]
     },
     "execution_count": 314,
     "metadata": {},
     "output_type": "execute_result"
    }
   ],
   "source": [
    "df.head(10)"
   ]
  },
  {
   "cell_type": "markdown",
   "id": "b644fde0",
   "metadata": {},
   "source": [
    "### filter"
   ]
  },
  {
   "cell_type": "code",
   "execution_count": 320,
   "id": "fe0d375e",
   "metadata": {},
   "outputs": [
    {
     "name": "stdout",
     "output_type": "stream",
     "text": [
      "[2, 4, 6]\n"
     ]
    }
   ],
   "source": [
    "numbers = [1, 2, 3, 4, 5, 6]\n",
    "evens = list(filter(lambda x: x % 2 == 0, numbers))\n",
    "print(evens)  # [2, 4, 6]\n"
   ]
  },
  {
   "cell_type": "markdown",
   "id": "a00eade6",
   "metadata": {},
   "source": [
    "### reduce"
   ]
  },
  {
   "cell_type": "code",
   "execution_count": 321,
   "id": "42c5ab53",
   "metadata": {},
   "outputs": [
    {
     "name": "stdout",
     "output_type": "stream",
     "text": [
      "24\n"
     ]
    }
   ],
   "source": [
    "from functools import reduce\n",
    "\n",
    "nums = [1, 2, 3, 4]\n",
    "product = reduce(lambda a, b: a * b, nums)\n",
    "print(product)  # 24\n"
   ]
  },
  {
   "cell_type": "markdown",
   "id": "a90152d5",
   "metadata": {},
   "source": [
    "### Decorators"
   ]
  },
  {
   "cell_type": "code",
   "execution_count": 322,
   "id": "5fe8f586",
   "metadata": {},
   "outputs": [
    {
     "name": "stdout",
     "output_type": "stream",
     "text": [
      "🔔 Transaction started: pay_with_card\n",
      "💳 Paid Rs.500 using Credit/Debit Card\n",
      "✅ Transaction completed: pay_with_card\n",
      "\n",
      "🔔 Transaction started: pay_with_upi\n",
      "📱 Paid Rs.300 using UPI\n",
      "✅ Transaction completed: pay_with_upi\n",
      "\n",
      "🔔 Transaction started: pay_with_cash\n",
      "💵 Paid Rs.1000 in Cash\n",
      "✅ Transaction completed: pay_with_cash\n",
      "\n"
     ]
    }
   ],
   "source": [
    "\n",
    "def log_transaction(func):\n",
    "    def wrapper(*args, **kwargs):\n",
    "        print(f\"🔔 Transaction started: {func.__name__}\")\n",
    "        result = func(*args, **kwargs)\n",
    "        print(f\"✅ Transaction completed: {func.__name__}\\n\")\n",
    "        return result\n",
    "    return wrapper\n",
    "\n",
    "\n",
    "@log_transaction\n",
    "def pay_with_card(amount):\n",
    "    print(f\"💳 Paid Rs.{amount} using Credit/Debit Card\")\n",
    "\n",
    "@log_transaction\n",
    "def pay_with_upi(amount):\n",
    "    print(f\"📱 Paid Rs.{amount} using UPI\")\n",
    "\n",
    "@log_transaction\n",
    "def pay_with_cash(amount):\n",
    "    print(f\"💵 Paid Rs.{amount} in Cash\")\n",
    "\n",
    "\n",
    "pay_with_card(500)\n",
    "pay_with_upi(300)\n",
    "pay_with_cash(1000)\n"
   ]
  },
  {
   "cell_type": "code",
   "execution_count": null,
   "id": "66de4165",
   "metadata": {},
   "outputs": [],
   "source": []
  }
 ],
 "metadata": {
  "kernelspec": {
   "display_name": "Python 3",
   "language": "python",
   "name": "python3"
  },
  "language_info": {
   "codemirror_mode": {
    "name": "ipython",
    "version": 3
   },
   "file_extension": ".py",
   "mimetype": "text/x-python",
   "name": "python",
   "nbconvert_exporter": "python",
   "pygments_lexer": "ipython3",
   "version": "3.11.9"
  }
 },
 "nbformat": 4,
 "nbformat_minor": 5
}
